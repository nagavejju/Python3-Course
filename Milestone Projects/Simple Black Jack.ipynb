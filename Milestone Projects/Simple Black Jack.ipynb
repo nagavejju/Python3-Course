{
 "cells": [
  {
   "cell_type": "markdown",
   "metadata": {},
   "source": [
    "# Simple Black Jack\n",
    "\n",
    "In this notebook, I'll use OOPs concepts to create a simplified version of the Black Jack game."
   ]
  },
  {
   "cell_type": "markdown",
   "metadata": {},
   "source": [
    "## Universal values"
   ]
  },
  {
   "cell_type": "code",
   "execution_count": 80,
   "metadata": {},
   "outputs": [],
   "source": [
    "import random\n",
    "from IPython.display import clear_output\n",
    "\n",
    "suits = ['Spades', 'Hearts', 'Diamonds', 'Clubs']\n",
    "card_type = ['Ace', 'Two', 'Three', 'Four', 'Five', 'Six', 'Seven', 'Eight', 'Nine', 'Ten', 'Jack', 'Queen', 'King']\n",
    "card_values = {'Ace': 11, 'Two': 2, 'Three': 3, 'Four': 4, 'Five': 5, 'Six': 6, 'Seven': 7, 'Eight': 8, 'Nine': 9, 'Ten': 10, 'Jack': 10, 'Queen': 10, 'King': 10}"
   ]
  },
  {
   "cell_type": "markdown",
   "metadata": {},
   "source": [
    "## Card class\n",
    "\n",
    "A class that defines a card's `suit` and `card_type`. The value can easily be derived using the `card_type` of the card."
   ]
  },
  {
   "cell_type": "code",
   "execution_count": 92,
   "metadata": {},
   "outputs": [],
   "source": [
    "class Card():\n",
    "    \n",
    "    def __init__(self, suit, card_type):\n",
    "        self.suit = suit\n",
    "        self.card_type = card_type\n",
    "    \n",
    "    def __str__(self):\n",
    "        return \"This is a {} of {}\".format(self.card_type, self.suit)"
   ]
  },
  {
   "cell_type": "markdown",
   "metadata": {},
   "source": [
    "## Deck class\n",
    "\n",
    "A class that includes a deck of cards as a list and enables shuffling."
   ]
  },
  {
   "cell_type": "code",
   "execution_count": 128,
   "metadata": {},
   "outputs": [],
   "source": [
    "class Deck():\n",
    "    \n",
    "    def __init__(self):\n",
    "        self.deck = []\n",
    "        for suit in suits:\n",
    "            for i in range(13):\n",
    "                self.deck.append(Card(suit, card_type[i]))\n",
    "                \n",
    "    def __str__(self):\n",
    "        return \"There are {} cards in the deck\".format(len(self.deck))\n",
    "    \n",
    "    def shuffle(self):\n",
    "        random.shuffle(self.deck)\n",
    "        \n",
    "    def deal_one(self):\n",
    "        return self.deck.pop()"
   ]
  },
  {
   "cell_type": "code",
   "execution_count": 105,
   "metadata": {},
   "outputs": [],
   "source": [
    "class Hand():\n",
    "    \n",
    "    def __init__(self):\n",
    "        self.cards = []\n",
    "        self.value = 0\n",
    "        self.aces = 0\n",
    "        \n",
    "    def show_one(self):\n",
    "        return self.cards[0].card_type\n",
    "        \n",
    "    def show_all(self):\n",
    "         return [card.card_type for card in self.cards]\n",
    "    \n",
    "    def add_card(self, card):\n",
    "        self.cards.append(card)\n",
    "        self.value += card_values[card.card_type]\n",
    "        if card.card_type == 'Ace':\n",
    "            self.aces += 1\n",
    "        if self.value > 21 and self.aces:\n",
    "            self.value -= 10\n",
    "            self.aces -= 1"
   ]
  },
  {
   "cell_type": "code",
   "execution_count": 106,
   "metadata": {},
   "outputs": [],
   "source": [
    "def hit_or_stay(hand):\n",
    "    while True:\n",
    "        move = input(\"Do you want to HIT or STAY?\")\n",
    "        if move == 'HIT' or move == 'STAY':\n",
    "            return move\n",
    "        else:\n",
    "            print(\"Please select the correct choice\")"
   ]
  },
  {
   "cell_type": "code",
   "execution_count": 124,
   "metadata": {},
   "outputs": [],
   "source": [
    "def deal(deck, hand):\n",
    "    new_card = deck.deal_one()\n",
    "    hand.add_card(new_card)\n",
    "    print(\"The newly added card is: {}\".format(new_card.card_type))\n",
    "    return hand"
   ]
  },
  {
   "cell_type": "code",
   "execution_count": 122,
   "metadata": {},
   "outputs": [],
   "source": [
    "def check_winner(player_hand, computer_hand):\n",
    "    if player_hand.value > 21:\n",
    "        print(\"Player burst! The dealer wins!!\")\n",
    "        return 'DEALER'\n",
    "    if computer_hand.value > 21:\n",
    "        print(\"Dealer burst! The player wins!!\")\n",
    "        return 'PLAYER'\n",
    "    if computer_hand.value > player_hand.value:\n",
    "        print(\"Dealer wins!!\")\n",
    "        return 'DEALER'\n",
    "    return"
   ]
  },
  {
   "cell_type": "code",
   "execution_count": 114,
   "metadata": {},
   "outputs": [],
   "source": [
    "def chips_bet(chips):\n",
    "    while True:\n",
    "        try:\n",
    "            bet = input(\"How many chips you want to bet out of {}? \".format(chips))\n",
    "            bet = int(bet)\n",
    "            if bet < 0 or bet > chips:\n",
    "                print(\"Please select an appropriate number\")\n",
    "            else:\n",
    "                return bet\n",
    "        except:\n",
    "            print(\"Please select an appropriate number\")"
   ]
  },
  {
   "cell_type": "code",
   "execution_count": 115,
   "metadata": {},
   "outputs": [],
   "source": [
    "def continue_play():\n",
    "    play_again = input(\"Do you want to play another game?\")\n",
    "    if play_again == 'Yes':\n",
    "        return True\n",
    "    else:\n",
    "        return False"
   ]
  },
  {
   "cell_type": "markdown",
   "metadata": {},
   "source": [
    "## Game\n",
    "\n",
    "Let's start with the game itself."
   ]
  },
  {
   "cell_type": "code",
   "execution_count": 127,
   "metadata": {},
   "outputs": [
    {
     "name": "stdout",
     "output_type": "stream",
     "text": [
      "The dealer's cards are: Queen\n",
      "Your cards are: ['Four', 'Ten'] with value: 14\n",
      "Do you want to HIT or STAY?STAY\n",
      "The dealer's cards are: ['Queen', 'Ten'] with value: 20\n",
      "Your cards are: ['Four', 'Ten'] with value: 14\n",
      "The newly added card is: Nine\n",
      "Dealer burst! The player wins!!\n",
      "Cannot continue ahead. You have no more chips\n"
     ]
    }
   ],
   "source": [
    "chips = 10\n",
    "while True:\n",
    "    deck = Deck()\n",
    "    deck.shuffle()\n",
    "    bet = chips_bet(chips)\n",
    "    computer_hand = Hand()\n",
    "    computer_hand.add_card(deck.deal_one())\n",
    "    computer_hand.add_card(deck.deal_one())\n",
    "    player_hand = Hand()\n",
    "    player_hand.add_card(deck.deal_one())\n",
    "    player_hand.add_card(deck.deal_one())\n",
    "    winner = None\n",
    "    while True:\n",
    "        clear_output()\n",
    "        print(\"The dealer's cards are: {}\".format(computer_hand.show_one()))\n",
    "        print(\"Your cards are: {} with value: {}\".format(player_hand.show_all(), player_hand.value))\n",
    "        move = hit_or_stay(player_hand)\n",
    "        if move == 'HIT':\n",
    "            player_hand = deal(deck, player_hand)\n",
    "            winner = check_winner(player_hand, computer_hand)\n",
    "            if (winner):\n",
    "                break\n",
    "        else:\n",
    "            break\n",
    "            \n",
    "    if not winner:\n",
    "        while True:\n",
    "            print(\"The dealer's cards are: {} with value: {}\".format(computer_hand.show_all(), computer_hand.value))\n",
    "            print(\"The player's cards are: {} with value: {}\".format(player_hand.show_all(), player_hand.value))\n",
    "            deal(deck, computer_hand)\n",
    "            if (check_winner(player_hand, computer_hand)):\n",
    "                break\n",
    "    \n",
    "    if winner == 'PLAYER':\n",
    "        chips = chips + bet*2\n",
    "    else:\n",
    "        chips -= bet\n",
    "    if chips == 0:\n",
    "        print(\"Cannot continue ahead. You have no more chips\")\n",
    "        break\n",
    "    if (continue_play()):\n",
    "        continue\n",
    "    else:\n",
    "        break"
   ]
  },
  {
   "cell_type": "code",
   "execution_count": null,
   "metadata": {},
   "outputs": [],
   "source": []
  }
 ],
 "metadata": {
  "kernelspec": {
   "display_name": "Python 3",
   "language": "python",
   "name": "python3"
  },
  "language_info": {
   "codemirror_mode": {
    "name": "ipython",
    "version": 3
   },
   "file_extension": ".py",
   "mimetype": "text/x-python",
   "name": "python",
   "nbconvert_exporter": "python",
   "pygments_lexer": "ipython3",
   "version": "3.7.4"
  }
 },
 "nbformat": 4,
 "nbformat_minor": 2
}
