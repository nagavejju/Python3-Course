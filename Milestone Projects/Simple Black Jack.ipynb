{
 "cells": [
  {
   "cell_type": "markdown",
   "metadata": {},
   "source": [
    "# Simple Black Jack\n",
    "\n",
    "In this notebook, I'll use OOPs concepts to create a simplified version of the Black Jack game."
   ]
  },
  {
   "cell_type": "markdown",
   "metadata": {},
   "source": [
    "## Universal values"
   ]
  },
  {
   "cell_type": "code",
   "execution_count": 1,
   "metadata": {},
   "outputs": [],
   "source": [
    "import random\n",
    "from IPython.display import clear_output\n",
    "\n",
    "suits = ['Spades', 'Hearts', 'Diamonds', 'Clubs']\n",
    "card_type = ['Ace', 'Two', 'Three', 'Four', 'Five', 'Six', 'Seven', 'Eight', 'Nine', 'Ten', 'Jack', 'Queen', 'King']\n",
    "card_values = {'Ace': 11, \n",
    "               'Two': 2, \n",
    "               'Three': 3, \n",
    "               'Four': 4, \n",
    "               'Five': 5, \n",
    "               'Six': 6, \n",
    "               'Seven': 7, \n",
    "               'Eight': 8, \n",
    "               'Nine': 9, \n",
    "               'Ten': 10, \n",
    "               'Jack': 10, \n",
    "               'Queen': 10, \n",
    "               'King': 10}"
   ]
  },
  {
   "cell_type": "markdown",
   "metadata": {},
   "source": [
    "## Card class\n",
    "\n",
    "A class that defines a card's `suit` and `card_type`. The value can easily be derived using the `card_type` of the card."
   ]
  },
  {
   "cell_type": "code",
   "execution_count": 2,
   "metadata": {},
   "outputs": [],
   "source": [
    "class Card():\n",
    "    \n",
    "    def __init__(self, suit, card_type):\n",
    "        self.suit = suit\n",
    "        self.card_type = card_type\n",
    "    \n",
    "    def __str__(self):\n",
    "        return \"This is a {} of {}\".format(self.card_type, self.suit)"
   ]
  },
  {
   "cell_type": "markdown",
   "metadata": {},
   "source": [
    "## Deck class\n",
    "\n",
    "A class that includes a deck of cards as a list and enables shuffling."
   ]
  },
  {
   "cell_type": "code",
   "execution_count": 3,
   "metadata": {},
   "outputs": [],
   "source": [
    "class Deck():\n",
    "    \n",
    "    def __init__(self):\n",
    "        self.deck = []\n",
    "        for suit in suits:\n",
    "            for i in range(13):\n",
    "                self.deck.append(Card(suit, card_type[i]))\n",
    "                \n",
    "    def __str__(self):\n",
    "        return \"There are {} cards in the deck\".format(len(self.deck))\n",
    "    \n",
    "    def shuffle(self):\n",
    "        random.shuffle(self.deck)\n",
    "        \n",
    "    def deal_one(self):\n",
    "        return self.deck.pop()"
   ]
  },
  {
   "cell_type": "markdown",
   "metadata": {},
   "source": [
    "## Hand cass\n",
    "\n",
    "This class represents a hand in the game which could be for the dealer or a player."
   ]
  },
  {
   "cell_type": "code",
   "execution_count": 4,
   "metadata": {},
   "outputs": [],
   "source": [
    "class Hand():\n",
    "    \n",
    "    def __init__(self):\n",
    "        self.cards = []\n",
    "        self.value = 0\n",
    "        self.aces = 0\n",
    "        \n",
    "    def show_one(self):\n",
    "        return [self.cards[0].card_type]\n",
    "        \n",
    "    def show_all(self):\n",
    "         return [card.card_type for card in self.cards]\n",
    "    \n",
    "    def add_card(self, card):\n",
    "        self.cards.append(card)\n",
    "        self.value += card_values[card.card_type]\n",
    "        if card.card_type == 'Ace':\n",
    "            self.aces += 1\n",
    "        if self.value > 21 and self.aces:\n",
    "            self.value -= 10\n",
    "            self.aces -= 1"
   ]
  },
  {
   "cell_type": "markdown",
   "metadata": {},
   "source": [
    "## Functions to play game and handle deal\n",
    "\n",
    "These methods deal and handle all bets."
   ]
  },
  {
   "cell_type": "code",
   "execution_count": 5,
   "metadata": {},
   "outputs": [],
   "source": [
    "def hit_or_stay(hand, deck):\n",
    "    while True:\n",
    "        move = input(\"Do you want to HIT or STAND?\")\n",
    "        if move == 'HIT' or move == 'STAND':\n",
    "            return move\n",
    "        else:\n",
    "            print(\"Please select the correct choice\")\n",
    "\n",
    "def deal(deck, hand):\n",
    "    new_card = deck.deal_one()\n",
    "    hand.add_card(new_card)\n",
    "    print(\"The newly added card is: {}\".format(new_card.card_type))\n",
    "    \n",
    "def lose_bet(chips, bet):\n",
    "    chips -= bet\n",
    "    return chips\n",
    "\n",
    "def win_bet(chips, bet):\n",
    "    chips += 2*bet\n",
    "    return chips\n",
    "\n",
    "def chips_bet(chips):\n",
    "    while True:\n",
    "        try:\n",
    "            bet = input(\"How many chips you want to bet out of {}? \".format(chips))\n",
    "            bet = int(bet)\n",
    "            if bet < 0 or bet > chips:\n",
    "                print(\"Please select an appropriate number\")\n",
    "            else:\n",
    "                return bet\n",
    "        except:\n",
    "            print(\"Please select an appropriate number\")"
   ]
  },
  {
   "cell_type": "markdown",
   "metadata": {},
   "source": [
    "## Handle burst and win\n",
    "\n",
    "I define several functions for handling when and if player/dealer wins."
   ]
  },
  {
   "cell_type": "code",
   "execution_count": 6,
   "metadata": {},
   "outputs": [],
   "source": [
    "def player_bursts(player_hand, dealer_hand, chips, bet):\n",
    "    print(\"-\"*10)\n",
    "    print(\"Player bursts!!\")\n",
    "    return lose_bet(chips, bet)\n",
    "\n",
    "def dealer_bursts(player_hand, dealer_hand, chips, bet):\n",
    "    print(\"-\"*10)\n",
    "    print(\"Dealer bursts!!\")\n",
    "    return win_bet(chips, bet)\n",
    "    \n",
    "def player_wins(player_hand, dealer_hand, chips, bet):\n",
    "    print(\"-\"*10)\n",
    "    print(\"Player wins!!\")\n",
    "    return win_bet(chips, bet)\n",
    "\n",
    "def dealer_wins(player_hand, dealer_hand, chips, bet):\n",
    "    print(\"-\"*10)\n",
    "    print(\"Dealer wins!!\")\n",
    "    return lose_bet(chips, bet)\n",
    "    \n",
    "def tie(player_hand, dealer_hand):\n",
    "    print(\"-\"*10)\n",
    "    print(\"Dealer and player tie!!\")"
   ]
  },
  {
   "cell_type": "markdown",
   "metadata": {},
   "source": [
    "## Continue play?\n",
    "\n",
    "The program asks player if game needs to be continued."
   ]
  },
  {
   "cell_type": "code",
   "execution_count": 7,
   "metadata": {},
   "outputs": [],
   "source": [
    "def continue_play():\n",
    "    play_again = input(\"Do you want to play another game?\")\n",
    "    if play_again == 'Yes':\n",
    "        return True\n",
    "    else:\n",
    "        return False"
   ]
  },
  {
   "cell_type": "markdown",
   "metadata": {},
   "source": [
    "## Game\n",
    "\n",
    "Let's start with the game itself."
   ]
  },
  {
   "cell_type": "code",
   "execution_count": 8,
   "metadata": {},
   "outputs": [
    {
     "name": "stdout",
     "output_type": "stream",
     "text": [
      "The dealer's cards are: ['Jack']\n",
      "Your cards are: ['King', 'Jack'] with value: 20\n",
      "Do you want to HIT or STAND?STAND\n",
      "The dealer's cards are: ['Jack', 'King']\n",
      "Your cards are: ['King', 'Jack'] with value: 20\n",
      "----------\n",
      "Dealer and player tie!!\n",
      "Do you want to play another game?No\n"
     ]
    }
   ],
   "source": [
    "chips = 10\n",
    "while True:\n",
    "    # Create and shuffle deck\n",
    "    deck = Deck()\n",
    "    deck.shuffle()\n",
    "    bet = chips_bet(chips)\n",
    "    \n",
    "    # Dealer hand\n",
    "    dealer_hand = Hand()\n",
    "    dealer_hand.add_card(deck.deal_one())\n",
    "    dealer_hand.add_card(deck.deal_one())\n",
    "    \n",
    "    # Player hand\n",
    "    player_hand = Hand()\n",
    "    player_hand.add_card(deck.deal_one())\n",
    "    player_hand.add_card(deck.deal_one())\n",
    "    \n",
    "    playing = True\n",
    "    while playing:\n",
    "        clear_output()\n",
    "        print(\"The dealer's cards are: {}\".format(dealer_hand.show_one()))\n",
    "        print(\"Your cards are: {} with value: {}\".format(player_hand.show_all(), player_hand.value))\n",
    "        \n",
    "        move = hit_or_stay(deck, player_hand)\n",
    "        if move == 'HIT':\n",
    "            deal(deck, player_hand)\n",
    "            if player_hand.value > 21:\n",
    "                chips = player_bursts(player_hand, dealer_hand, chips, bet)\n",
    "                playing = False\n",
    "        else:\n",
    "            playing = False\n",
    "         \n",
    "    print(\"The dealer's cards are: {}\".format(dealer_hand.show_all()))\n",
    "    print(\"Your cards are: {} with value: {}\".format(player_hand.show_all(), player_hand.value))\n",
    "    if player_hand.value <= 21:\n",
    "        while dealer_hand.value < 17:\n",
    "            deal(deck, dealer_hand)\n",
    "            \n",
    "        if dealer_hand.value > 21:\n",
    "            chips = dealer_bursts(player_hand, dealer_hand, chips, bet)\n",
    "        elif dealer_hand.value > player_hand.value:\n",
    "            chips = dealer_wins(player_hand, dealer_hand, chips, bet)\n",
    "        elif dealer_hand.value < player_hand.value:\n",
    "            chips = player_wins(player_hand, dealer_hand, chips, bet)\n",
    "        else:\n",
    "            tie(player_hand, dealer_hand)\n",
    "    \n",
    "    if chips == 0:\n",
    "        print(\"Cannot continue ahead. You have no more chips\")\n",
    "        break\n",
    "    if (continue_play()):\n",
    "        continue\n",
    "    else:\n",
    "        break"
   ]
  }
 ],
 "metadata": {
  "kernelspec": {
   "display_name": "Python 3",
   "language": "python",
   "name": "python3"
  },
  "language_info": {
   "codemirror_mode": {
    "name": "ipython",
    "version": 3
   },
   "file_extension": ".py",
   "mimetype": "text/x-python",
   "name": "python",
   "nbconvert_exporter": "python",
   "pygments_lexer": "ipython3",
   "version": "3.7.4"
  }
 },
 "nbformat": 4,
 "nbformat_minor": 2
}
