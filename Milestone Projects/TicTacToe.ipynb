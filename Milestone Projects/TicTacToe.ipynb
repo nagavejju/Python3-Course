{
 "cells": [
  {
   "cell_type": "markdown",
   "metadata": {},
   "source": [
    "# Tic Tac Toe\n",
    "\n",
    "This notebook includes the complete Tic Tac Toe game developed using Python 3."
   ]
  },
  {
   "cell_type": "markdown",
   "metadata": {},
   "source": [
    "## Helper functions"
   ]
  },
  {
   "cell_type": "markdown",
   "metadata": {},
   "source": [
    "### Clear Output\n",
    "\n",
    "The `clear_output` method enables clearing the output of the cell whenever it is called. This will be handy so that the outputs during gameplay do not get very long. "
   ]
  },
  {
   "cell_type": "code",
   "execution_count": 1,
   "metadata": {},
   "outputs": [],
   "source": [
    "from IPython.display import clear_output"
   ]
  },
  {
   "cell_type": "markdown",
   "metadata": {},
   "source": [
    "### Game introduction\n",
    "\n",
    "Whenever a new game starts, the players will be greated with the general overview of the same and a sample board."
   ]
  },
  {
   "cell_type": "code",
   "execution_count": 2,
   "metadata": {},
   "outputs": [],
   "source": [
    "def gameIntro():\n",
    "    print(\"-\"*40)\n",
    "    print(\"Welcome to the Tic-Tac-Toe Game\")\n",
    "    print(\"-\"*40)\n",
    "    print(\"Here, each player will choose between X or O and would like to have \" +\n",
    "          \"three of their markers in a line, either horizontally, vertically or diagonally\")\n",
    "    print(\"The board is designed as below:\")\n",
    "    printBoard()"
   ]
  },
  {
   "cell_type": "markdown",
   "metadata": {},
   "source": [
    "### Print current board status\n",
    "\n",
    "This outputs the current status of the board either filled with X, O or blanks. If no state is provided, it prints the sample board with position numbers."
   ]
  },
  {
   "cell_type": "code",
   "execution_count": 3,
   "metadata": {},
   "outputs": [],
   "source": [
    "def printBoard(boardState = [1, 2, 3, 4, 5, 6, 7, 8, 9]):\n",
    "    print(\"   |   |   \")\n",
    "    print(\" {} | {} | {} \".format(boardState[0], boardState[1], boardState[2]))\n",
    "    print(\"   |   |   \")\n",
    "    print(\"---|---|---\")\n",
    "    print(\"   |   |   \")\n",
    "    print(\" {} | {} | {} \".format(boardState[3], boardState[4], boardState[5]))\n",
    "    print(\"   |   |   \")\n",
    "    print(\"---|---|---\")\n",
    "    print(\"   |   |   \")\n",
    "    print(\" {} | {} | {} \".format(boardState[6], boardState[7], boardState[8]))\n",
    "    print(\"   |   |   \\n\")"
   ]
  },
  {
   "cell_type": "markdown",
   "metadata": {},
   "source": [
    "### Markers\n",
    "\n",
    "This method allows the first player to choose either **X** or **O**."
   ]
  },
  {
   "cell_type": "code",
   "execution_count": 4,
   "metadata": {},
   "outputs": [],
   "source": [
    "def getMarkers():\n",
    "    while (True):\n",
    "        marker = input(\"Player 1 choose either X or O: \")\n",
    "        if marker == 'X':\n",
    "            return ('X', 'O')\n",
    "        elif marker == 'O':\n",
    "            return ('O', 'X')\n",
    "        else:\n",
    "            print(\"Please select correct choice between X or O\")"
   ]
  },
  {
   "cell_type": "markdown",
   "metadata": {},
   "source": [
    "### Start a new game\n",
    "\n",
    "Whenever a game ends, the players are prompted to start a new game altogether. This method includes the code for it."
   ]
  },
  {
   "cell_type": "code",
   "execution_count": 5,
   "metadata": {},
   "outputs": [],
   "source": [
    "def newGame():\n",
    "    while (True):\n",
    "        new_game = input(\"Do you want to start a new game?(y/n) \")\n",
    "        if new_game == 'y' or new_game == 'Y':\n",
    "            return True\n",
    "        elif new_game == 'n' or new_game == 'N':\n",
    "            return False\n",
    "        else:\n",
    "            print(\"Please select correct choice between y or n\")"
   ]
  },
  {
   "cell_type": "markdown",
   "metadata": {},
   "source": [
    "### Valid move\n",
    "\n",
    "The following functions check whether the move is valid or not."
   ]
  },
  {
   "cell_type": "code",
   "execution_count": 6,
   "metadata": {},
   "outputs": [],
   "source": [
    "def isValid(boardState, choice):\n",
    "    try:\n",
    "        choice = int(choice)\n",
    "        if boardState[choice - 1] == ' ':\n",
    "            return True\n",
    "        return False\n",
    "    except:\n",
    "        return False"
   ]
  },
  {
   "cell_type": "markdown",
   "metadata": {},
   "source": [
    "### Place marker\n",
    "\n",
    "If the move is valid, then a marker based on the player is placed on the board at that position."
   ]
  },
  {
   "cell_type": "code",
   "execution_count": 7,
   "metadata": {},
   "outputs": [],
   "source": [
    "def place(boardState, choice, marker):\n",
    "    boardState[choice - 1] = marker\n",
    "    return boardState"
   ]
  },
  {
   "cell_type": "markdown",
   "metadata": {},
   "source": [
    "### Check Winner\n",
    "\n",
    "The method checks if the player that made the present move resulted in a win."
   ]
  },
  {
   "cell_type": "code",
   "execution_count": 8,
   "metadata": {},
   "outputs": [],
   "source": [
    "def checkWinner(boardState):\n",
    "    if ((boardState[0] != ' ' and boardState[0] == boardState[1] and boardState[1] == boardState[2]) \n",
    "    or (boardState[3] != ' ' and boardState[3] == boardState[4] and boardState[4] == boardState[5]) \n",
    "    or (boardState[6] != ' ' and boardState[6] == boardState[7] and boardState[7] == boardState[8])\n",
    "    or (boardState[0] != ' ' and boardState[0] == boardState[3] and boardState[3] == boardState[6]) \n",
    "    or (boardState[1] != ' ' and boardState[1] == boardState[4] and boardState[4] == boardState[7]) \n",
    "    or (boardState[2] != ' ' and boardState[2] == boardState[5] and boardState[5] == boardState[8])\n",
    "    or (boardState[0] != ' ' and boardState[0] == boardState[4] and boardState[4] == boardState[8]) \n",
    "    or (boardState[2] != ' ' and boardState[2] == boardState[4] and boardState[4] == boardState[6])):\n",
    "        return True\n",
    "    return False"
   ]
  },
  {
   "cell_type": "markdown",
   "metadata": {},
   "source": [
    "### Check Tie\n",
    "\n",
    "Check if the board is complete and none of the players won."
   ]
  },
  {
   "cell_type": "code",
   "execution_count": 9,
   "metadata": {},
   "outputs": [],
   "source": [
    "def checkTie(boardState):\n",
    "    for i in range(len(boardState)):\n",
    "        if boardState[i] == ' ':\n",
    "            return False\n",
    "    return True"
   ]
  },
  {
   "cell_type": "markdown",
   "metadata": {},
   "source": [
    "### Game\n",
    "\n",
    "Finally, this method includes the code to run a complete game all by itself. It prompts players to choose options and allows them to play."
   ]
  },
  {
   "cell_type": "code",
   "execution_count": 10,
   "metadata": {},
   "outputs": [],
   "source": [
    "def game(player1_marker, player2_marker):\n",
    "    boardState = [' ']*9\n",
    "    turn = 0\n",
    "    while (True):\n",
    "        clear_output()\n",
    "        print(\"Player 1 marker: {}\\tPlayer 2 marker: {}\".format(player1_marker, player2_marker))\n",
    "        printBoard(boardState)\n",
    "        if turn == 0:\n",
    "            choice = input(\"Player 1 please select where to place {}: \".format(player1_marker))\n",
    "            if isValid(boardState, choice):\n",
    "                boardState = place(boardState, int(choice), player1_marker)\n",
    "                turn = 1\n",
    "                if (checkWinner(boardState)):\n",
    "                    printBoard(boardState)\n",
    "                    print(\"Player 1 won!!\\n\")\n",
    "                    break\n",
    "        else:\n",
    "            choice = input(\"Player 2 please select where to place {}: \".format(player2_marker))\n",
    "            if isValid(boardState, choice):\n",
    "                boardState = place(boardState, int(choice), player2_marker)\n",
    "                turn = 0\n",
    "                if (checkWinner(boardState)):\n",
    "                    printBoard(boardState)\n",
    "                    print(\"Player 2 won!!\\n\")\n",
    "                    break\n",
    "        if (checkTie(boardState)):\n",
    "            print(\"The game tied\")\n",
    "            break"
   ]
  },
  {
   "cell_type": "markdown",
   "metadata": {},
   "source": [
    "# Gamplay\n",
    "\n",
    "Now that we have all the functions to support the gameplay, we can now start the game."
   ]
  },
  {
   "cell_type": "code",
   "execution_count": 11,
   "metadata": {},
   "outputs": [
    {
     "name": "stdout",
     "output_type": "stream",
     "text": [
      "Thank you for playing!!\n"
     ]
    }
   ],
   "source": [
    "keep_playing = True\n",
    "while (keep_playing):\n",
    "    gameIntro()\n",
    "    player1_marker, player2_marker = getMarkers()\n",
    "    game(player1_marker, player2_marker)\n",
    "    keep_playing = newGame()\n",
    "    clear_output()\n",
    "\n",
    "print(\"Thank you for playing!!\")"
   ]
  }
 ],
 "metadata": {
  "kernelspec": {
   "display_name": "Python 3",
   "language": "python",
   "name": "python3"
  },
  "language_info": {
   "codemirror_mode": {
    "name": "ipython",
    "version": 3
   },
   "file_extension": ".py",
   "mimetype": "text/x-python",
   "name": "python",
   "nbconvert_exporter": "python",
   "pygments_lexer": "ipython3",
   "version": "3.7.4"
  }
 },
 "nbformat": 4,
 "nbformat_minor": 2
}
